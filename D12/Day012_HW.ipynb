{
 "cells": [
  {
   "cell_type": "markdown",
   "metadata": {},
   "source": [
    "# Ettoday 網路爬蟲實作練習\n",
    "\n",
    "\n",
    "* 能夠利用 Request + BeatifulSour 撰寫爬蟲，並存放到合適的資料結構\n"
   ]
  },
  {
   "cell_type": "markdown",
   "metadata": {},
   "source": [
    "## 作業目標\n",
    "\n",
    "根據範例 ，完成以下問題：\n",
    "\n",
    "* ① 取出今天所有的發文\n",
    "* ② 如果想要依照類別分類，怎麼儲存會比較好？\n",
    "* ③ 哪一個類別的文章最多\n",
    "\n",
    "\n"
   ]
  },
  {
   "cell_type": "markdown",
   "metadata": {},
   "source": [
    "### ① 取出今天所有的發文"
   ]
  },
  {
   "cell_type": "code",
   "execution_count": 1,
   "metadata": {},
   "outputs": [
    {
     "name": "stdout",
     "output_type": "stream",
     "text": [
      "2020/06/21 07:41 任內新北副市長陳伸賢退出監委提名　朱立倫：對他二次傷害不公平\n",
      "2020/06/21 07:41 《披荊斬棘的哥哥》初選30人名單瘋傳！　一整排大咖明星…男團分類驚見汪東城、敖犬\n",
      "2020/06/21 07:21 爆川普「眼中的台北」！法官判波頓《白宮回憶錄》可出書　美總統回嗆了\n",
      "2020/06/21 07:18 國安法制度設計有爭議　港人憂「北京利劍」影響司法獨立\n",
      "2020/06/21 07:06 原來吉卜力有服裝品牌！無臉男、小煤炭經典動畫T恤影迷必收\n",
      "2020/06/21 07:03 戴口罩就不用擦防曬？　專業皮膚科醫師提3點建議\n",
      "2020/06/21 07:01 台灣沒發現過！南投驚見外來種「番茄潛旋蛾」　防檢局緊急投藥全台大追蹤\n",
      "2020/06/21 07:00 看日環食順便吃享用美食　15家嘉義必吃雞肉飯懶人包\n",
      "2020/06/21 07:00 看得到超夢幻「夕陽海」！金門無敵海景民宿　走幾步路就到沙灘\n",
      "2020/06/21 07:00 錯過等下輩子！日環食今天下午登場　10縣市「觀賞時間＆地點」攻略看這裡\n",
      "2020/06/21 06:45 快訊／地上全是血！英國隨機砍人案至少3死2命危　1男被逮\n",
      "2020/06/21 06:17 補充兵猝死！父淚曝「大腿內側奇怪手印」：你有冤就讓我知道突冒出一滴血\n",
      "2020/06/21 06:00 快tag酒鬼！「香檳冰棒」拿起高腳杯直接舔　夏天開趴就是它了\n",
      "2020/06/21 04:49 騎車一半…纏到樹上風箏線　桃園騎士慘遭割喉摔車\n",
      "2020/06/21 04:49 京華城工地樓板坍塌「壓爛人車」工人慘死　獨子凌晨招魂淚崩仰天痛嚎\n",
      "2020/06/21 04:17 以為是男友…半裸妹熟睡遭揉　睜眼看床邊嚇哭崩潰\n",
      "2020/06/21 03:01 好市多「黑鑽卡」來了！隱藏功能曝光…網試算驚：掏出來就贏了\n",
      "2020/06/21 02:10 高息「金融股」民眾狂存！　財經作家：你沒發現大戶都在撤？\n",
      "2020/06/21 02:08 大嬸喊「表演不好看」刺進心裡！陳日昇：魔術師最怕騙不到任何人，只騙自己\n",
      "2020/06/21 01:42 閃爆地表！「上帝金戒指」夏至降臨台灣上空　10縣市日環食時程：16:10太陽就缺角\n",
      "2020/06/21 01:41 加速工業智動化！OnRobot Screwdriver隨插即用設計助提升部署彈性\n",
      "2020/06/21 01:40 兄弟帶4孩出門詭異失聯！隔1天「全部吊死」陳屍空公寓　警破門見超驚悚場景\n",
      "2020/06/21 01:37 星二代曬比基尼辣照  邪惡角度+渾圓兩球  辣昏網友！\n",
      "2020/06/21 01:36 2020疫情大浩劫持續中！全球近46萬人死亡　已超過868萬人中鏢\n",
      "2020/06/21 01:35 最終回播畢…王子勾《覆活》演員嗨自拍！牽手一鞠躬謝粉絲\n",
      "2020/06/21 01:18 女子嗆「月入50K以下不配擁有愛情」！全台僅5行業達標　網友看傻\n",
      "2020/06/21 01:16 德州撲克教的！35歲台大博士買「防疫股」狂賺800萬　直接買一間新房\n",
      "2020/06/21 01:11 百億富豪七殺命！公司下櫃欠1200億　他7年還完債還養出「小台積電」\n",
      "2020/06/21 01:08 中職／卡本特對兄弟尚未挨轟　廖乙忠先發拚對戰首勝\n",
      "2020/06/21 01:05 有錢超大聲！囂張屁孩「賣笑氣發財」爽玩搶小姐　比幫派大哥還跩\n",
      "2020/06/21 01:03 碰！宜蘭歇業「夾娃娃機店」突暗夜大火　 居民被聲音嚇壞：以為瓦斯爆了\n",
      "2020/06/21 00:50 與毛孩同穿Yeezy 350好潮！「寵物鞋套」保護小爪子　柴柴、哈士奇都適用\n",
      "2020/06/21 00:43 汐止大樓住15年！女子突被告知「公設是違建」　竟全要回填\n",
      "2020/06/21 00:29 爸爸腦梗塞！媽媽0經驗「靠電話學針灸放血」　男星PO文讚偉大…1天後道歉了\n",
      "2020/06/21 00:29 內蒙沙漠試種5200畝旱稻　預計每畝可產450公斤大米\n",
      "2020/06/21 00:26 20歲男大生玩期權「以為慘賠2千萬」！留一封遺書身亡　結局很悲傷\n",
      "2020/06/21 00:08 中職／決定老三！陳仕朋對統一未吞敗　達尼爾找首勝\n",
      "2020/06/21 00:05 《乘風破浪的姐姐》劉芸被批「唱沒幾句還搶C位」！　網發私訊狂罵…工作室無奈回應了\n",
      "2020/06/21 00:03 買菜踩髒水...糖尿嬤  慘截肢　「周邊神經病變」4警訊別輕忽！\n",
      "2020/06/21 00:02 對的高跟鞋能陪你走一輩子！30歲女人值得投資的7個品牌\n",
      "2020/06/20 23:59 坎城影帝零下30度極地求生　網嚇：人類與大自然的原始搏鬥\n",
      "2020/06/20 23:58 女大生慘死！她偷看「閨蜜日記」傻了…神謎團讓7000人燒腦崩潰\n",
      "2020/06/20 23:57 快訊／活埋小山貓8小時！京華城工人臟器外露身亡　家屬癱軟痛哭\n",
      "2020/06/20 23:56 雷／《覆活》大結局「最後10分鐘神反轉」！網友起雞皮：劇名有暗示\n",
      "2020/06/20 23:55 北京可設「駐港國安公署」！　港版《國安法》草案內容曝光\n",
      "2020/06/20 23:51 全台第一條！蘇花改「最低速限」上路：開抓50公里↓烏龜車　一張圖看路線\n",
      "2020/06/20 23:44 單親媽媽壓力太大！　雄性賀爾蒙激增…長出小GG\n",
      "2020/06/20 23:44 「中一期」徐衍璞主持中正預校畢典　勉小學弟充實自我多閱讀\n",
      "2020/06/20 23:36 《便利店新星》剛播就惹議！　「原作是19禁A漫」…內容曝光網吐槽：有必要翻拍成劇？\n",
      "2020/06/20 23:31 獨家花絮／王子任容萱虐心吻別！「忘川隧道」現場首曝光\n",
      "2020/06/20 23:29 快訊／彈劾案被挖出...陳伸賢退出監委提名　總統府回應了！\n",
      "2020/06/20 23:27 電話接通一秒掛斷！「幽靈電話」讓她氣炸　老司機曝背後秘密\n",
      "2020/06/20 23:20 桃園竹圍漁港碼頭疑似釣客溺水　消防局搶救送醫已無呼吸心跳\n",
      "2020/06/20 23:20 紫色屋簷浪漫風　桃園這座市民活動中心外觀色調很不一樣\n",
      "2020/06/20 23:20 創作研究兒歌、童詩逾半世紀　許義宗教授桃園故鄉個展感恩多\n",
      "2020/06/20 23:20 狂吞10顆「美國黑金」求壯陽　他一睡不醒...血糖驟降險喪命\n",
      "2020/06/20 23:15 雷／金秀賢二遇徐睿知噴血！《精神病》結尾震撼彈：我來見妳的\n",
      "2020/06/20 23:12 南高捷連紅線有望！　大南方治理平台再造共榮前景\n",
      "2020/06/20 23:08 金曲得主梁啟慧睽違10年發片　專輯「會長真的草」背後秘密曝光！\n",
      "2020/06/20 23:04 「全職家庭主婦」也會失業！百萬網友追蹤人生導師：世界上沒有穩定的工作\n",
      "2020/06/20 22:56 點外送「地址填錯」！新竹男崩潰：幫我放門口…秒被外送員一舉動暖哭\n",
      "2020/06/20 22:54 女友掀中泰大戰！　Bright撐2個月道歉了：對不起中國，對不起你們\n",
      "2020/06/20 22:54 陳時中笑談「防疫五月天」任務告一段落　後續盼紓困六月天、振興八月天\n",
      "2020/06/20 22:53 快訊／京華城活埋工人找到了！受困小山貓內「身上覆蓋泥沙」\n",
      "2020/06/20 22:49 中職／陳俊秀本季首度雙響砲　洲際打球「滿興奮」\n",
      "2020/06/20 22:44 快訊／「過去冤枉被掀開」 陳伸賢退出監委提名：已將婉拒聲明送給總統府\n",
      "2020/06/20 22:38 京華城工人遭活埋...出動「生命探測儀」　黃珊珊到場：全面停工\n",
      "2020/06/20 22:33 中職／劉育辰調一下！林安可雙響　陳傑憲隨口一句轟破紀錄\n",
      "2020/06/20 22:32 台南柳營第14號橋驚傳落水！消防員漏夜搜救　現場獨留電動輪椅\n",
      "2020/06/20 22:31 中職／威拉諾對老東家兄弟奪首勝：在洲際投球舒服\n",
      "2020/06/20 22:31 大鶴PK王子贏了「帥臉登星光雲24小時」！《覆活》映前直播玩瘋\n",
      "2020/06/20 22:30 企聯女壘／上半季21日結束　旺獅、黃蜂3強力外援去向？\n",
      "2020/06/20 22:30 日本郵局太有才！「龍貓手提袋」出透明夏日款　到海邊拎它就贏了\n",
      "2020/06/20 22:28 晨勃看出性能力！醫驚揭「一晚正常次數」反映健康　睡死怎麼測…答案曝光\n",
      "2020/06/20 22:27 CBA／林書豪13分7籃板6助攻　北京勝遼寧　周儀翔拿7分\n",
      "2020/06/20 22:27 「AI+5G專家」分享暨技術交流展　打造南台灣醫療物聯網新趨勢\n",
      "2020/06/20 22:23 快訊／3女闖花蓮黃金峽谷溯溪！慘遭「落石砸中」1死2傷　未申請遭開罰\n",
      "2020/06/20 22:23 中職／林安可穩定輸出　餅總：專心打者好好表現\n",
      "2020/06/20 22:14 計程車心急開走！奶奶來不及上「腳捲進後輪」　郭惠妮嚇壞：皮都掉了\n",
      "2020/06/20 22:11 被挖出過去彈劾案　前新北副市長陳伸賢「我沒興趣了」…退出監委提名\n",
      "2020/06/20 22:08 中職／羅里奇勝投開胡　餅總：後面多拿幾勝\n",
      "2020/06/20 22:07 中職／羅里奇首勝開張很快樂　修正動作連2戰7局好投\n",
      "2020/06/20 22:04 WSBL／退休前拚一座　國泰陳鈺君勇奪總冠軍MVP\n",
      "2020/06/20 22:04 85歲以上長者「每4人有1人可能衰弱狀態」6項指標可在家評估\n",
      "2020/06/20 21:56 快訊／小琉球潛水失聯6天亡！彰化男遺體漂到綠島　家屬崩潰：回家了\n",
      "2020/06/20 21:55 「黑豹」暴瘦現身2月後驚傳「坐輪椅送急診」！　噤聲不回應…病況引憂\n",
      "2020/06/20 21:52 影／中職／威拉諾好投奪首勝　樂天砲轟米蘭達11比1屠象\n",
      "2020/06/20 21:50 中職／最高薪洋投悲情5連敗　林泓育對米蘭達破6成打擊率\n",
      "2020/06/20 21:50 明明不醜卻沒人追？異性緣差的女生都有4大特點　過於獨立也NG\n",
      "2020/06/20 21:45 WSBL／鄭慧芸奪年度最佳教練　遺憾國泰個人獎沒「全包」\n",
      "2020/06/20 21:45 中職／羅里奇7局好投本季首勝開張　統一6轟13比4擊潰富邦\n",
      "2020/06/20 21:34 中職／網羅戴順還不夠　統一獅繼續找洋投\n",
      "2020/06/20 21:34 傻眼！周杰倫師弟MV沒露臉　3週點擊「反速飆200萬」\n",
      "2020/06/20 21:34 陳時中拋擴大健保規模！健保費漲不漲「11月健保會討論」\n",
      "2020/06/20 21:33 花蓮黃金峽谷溯溪遭落石擊中　2女輕傷送醫1女已無呼吸心跳\n",
      "2020/06/20 21:30 國中妹左耳癢到爆！耳道竟爬滿「雪白斑紋」　醫嚇傻：天天戴耳機\n",
      "2020/06/20 21:30 被長官帶出場？中市府「俏秘書」秀美腿…IG內容曝：超荒謬的一天\n",
      "2020/06/20 21:29 11國境外生20日起解禁返台　教育部：6/20至7/5名單須提報\n",
      "2020/06/20 21:28 珍奶都是油！台灣最夯「爆肥小吃Top5」曝　營養師教一招爽吃…熱量秒減\n",
      "2020/06/20 21:27 「一柱擎天姐」領表了！確定籌錢選高雄市長　霸氣政見曝光\n"
     ]
    }
   ],
   "source": [
    "import requests\n",
    "from bs4 import BeautifulSoup\n",
    "\n",
    "url = 'https://www.ettoday.net/news/news-list.htm'\n",
    "r = requests.get(url)\n",
    "\n",
    "soup = BeautifulSoup(r.text, \"html5lib\")\n",
    "\n",
    "for d in soup.find(class_=\"part_list_2\").find_all('h3'):\n",
    "    print(d.find(class_=\"date\").text, d.find_all('a')[-1].text)"
   ]
  },
  {
   "cell_type": "markdown",
   "metadata": {},
   "source": [
    "### ② 如果想要依照類別分類，怎麼儲存會比較好？"
   ]
  },
  {
   "cell_type": "code",
   "execution_count": 39,
   "metadata": {},
   "outputs": [
    {
     "data": {
      "text/plain": [
       "[<h3><span class=\"date\">2020/06/21 01:41</span><em class=\"tag c_teck3c\">3C家電</em><a href=\"/news/20200621/1742800.htm\" target=\"_blank\">加速工業智動化！OnRobot Screwdriver隨插即用設計助提升部署彈性</a></h3>,\n",
       " <h3><span class=\"date\">2020/06/21 00:03</span><em class=\"tag c_health\">健康</em><a href=\"/news/20200621/1737937.htm\" target=\"_blank\">買菜踩髒水...糖尿嬤  慘截肢　「周邊神經病變」4警訊別輕忽！</a></h3>,\n",
       " <h3><span class=\"date\">2020/06/20 23:20</span><em class=\"tag c_health\">健康</em><a href=\"/news/20200620/1737832.htm\" target=\"_blank\">狂吞10顆「美國黑金」求壯陽　他一睡不醒...血糖驟降險喪命</a></h3>,\n",
       " <h3><span class=\"date\">2020/06/20 22:28</span><em class=\"tag c_health\">健康</em><a href=\"/news/20200620/1739763.htm\" target=\"_blank\"><i class=\"icon_type_video\"></i>晨勃看出性能力！醫驚揭「一晚正常次數」反映健康　睡死怎麼測…答案曝光</a></h3>,\n",
       " <h3><span class=\"date\">2020/06/20 22:04</span><em class=\"tag c_health\">健康</em><a href=\"/news/20200620/1742758.htm\" target=\"_blank\">85歲以上長者「每4人有1人可能衰弱狀態」6項指標可在家評估</a></h3>,\n",
       " <h3><span class=\"date\">2020/06/20 21:28</span><em class=\"tag c_health\">健康</em><a href=\"/news/20200620/1741882.htm\" target=\"_blank\"><i class=\"icon_type_video\"></i>珍奶都是油！台灣最夯「爆肥小吃Top5」曝　營養師教一招爽吃…熱量秒減</a></h3>,\n",
       " <h3><span class=\"date\">2020/06/21 07:21</span><em class=\"tag c_global\">國際</em><a href=\"/news/20200621/1742873.htm\" target=\"_blank\">爆川普「眼中的台北」！法官判波頓《白宮回憶錄》可出書　美總統回嗆了</a></h3>,\n",
       " <h3><span class=\"date\">2020/06/21 06:45</span><em class=\"tag c_global\">國際</em><a href=\"/news/20200621/1742868.htm\" target=\"_blank\"><i class=\"icon_type_video\"></i>快訊／地上全是血！英國隨機砍人案至少3死2命危　1男被逮</a></h3>,\n",
       " <h3><span class=\"date\">2020/06/21 01:40</span><em class=\"tag c_global\">國際</em><a href=\"/news/20200621/1742856.htm\" target=\"_blank\">兄弟帶4孩出門詭異失聯！隔1天「全部吊死」陳屍空公寓　警破門見超驚悚場景</a></h3>,\n",
       " <h3><span class=\"date\">2020/06/21 01:37</span><em class=\"tag c_global\">國際</em><a href=\"/news/20200621/1742784.htm\" target=\"_blank\"><i class=\"icon_type_video\"></i>星二代曬比基尼辣照  邪惡角度+渾圓兩球  辣昏網友！</a></h3>,\n",
       " <h3><span class=\"date\">2020/06/21 01:36</span><em class=\"tag c_global\">國際</em><a href=\"/news/20200621/1742806.htm\" target=\"_blank\"><i class=\"icon_type_video\"></i>2020疫情大浩劫持續中！全球近46萬人死亡　已超過868萬人中鏢</a></h3>,\n",
       " <h3><span class=\"date\">2020/06/21 00:26</span><em class=\"tag c_global\">國際</em><a href=\"/news/20200621/1742840.htm\" target=\"_blank\">20歲男大生玩期權「以為慘賠2千萬」！留一封遺書身亡　結局很悲傷</a></h3>,\n",
       " <h3><span class=\"date\">2020/06/21 04:49</span><em class=\"tag c_local\">地方</em><a href=\"/news/20200621/1742865.htm\" target=\"_blank\">騎車一半…纏到樹上風箏線　桃園騎士慘遭割喉摔車</a></h3>,\n",
       " <h3><span class=\"date\">2020/06/20 23:51</span><em class=\"tag c_local\">地方</em><a href=\"/news/20200620/1742724.htm\" target=\"_blank\">全台第一條！蘇花改「最低速限」上路：開抓50公里↓烏龜車　一張圖看路線</a></h3>,\n",
       " <h3><span class=\"date\">2020/06/20 23:20</span><em class=\"tag c_local\">地方</em><a href=\"/news/20200620/1742818.htm\" target=\"_blank\">紫色屋簷浪漫風　桃園這座市民活動中心外觀色調很不一樣</a></h3>,\n",
       " <h3><span class=\"date\">2020/06/20 23:20</span><em class=\"tag c_local\">地方</em><a href=\"/news/20200620/1742798.htm\" target=\"_blank\">創作研究兒歌、童詩逾半世紀　許義宗教授桃園故鄉個展感恩多</a></h3>,\n",
       " <h3><span class=\"date\">2020/06/20 23:12</span><em class=\"tag c_local\">地方</em><a href=\"/news/20200620/1742830.htm\" target=\"_blank\">南高捷連紅線有望！　大南方治理平台再造共榮前景</a></h3>,\n",
       " <h3><span class=\"date\">2020/06/20 21:33</span><em class=\"tag c_local\">地方</em><a href=\"/news/20200620/1742795.htm\" target=\"_blank\">花蓮黃金峽谷溯溪遭落石擊中　2女輕傷送醫1女已無呼吸心跳</a></h3>,\n",
       " <h3><span class=\"date\">2020/06/21 07:18</span><em class=\"tag c_china\">大陸</em><a href=\"/news/20200621/1742871.htm\" target=\"_blank\">國安法制度設計有爭議　港人憂「北京利劍」影響司法獨立</a></h3>,\n",
       " <h3><span class=\"date\">2020/06/21 00:29</span><em class=\"tag c_china\">大陸</em><a href=\"/news/20200621/1742569.htm\" target=\"_blank\">內蒙沙漠試種5200畝旱稻　預計每畝可產450公斤大米</a></h3>,\n",
       " <h3><span class=\"date\">2020/06/20 23:55</span><em class=\"tag c_china\">大陸</em><a href=\"/news/20200620/1742835.htm\" target=\"_blank\">北京可設「駐港國安公署」！　港版《國安法》草案內容曝光</a></h3>,\n",
       " <h3><span class=\"date\">2020/06/21 07:41</span><em class=\"tag c_star\">影劇</em><a href=\"/news/20200621/1742874.htm\" target=\"_blank\"><i class=\"icon_type_video\"></i>《披荊斬棘的哥哥》初選30人名單瘋傳！　一整排大咖明星…男團分類驚見汪東城、敖犬</a></h3>,\n",
       " <h3><span class=\"date\">2020/06/21 01:35</span><em class=\"tag c_star\">影劇</em><a href=\"/news/20200621/1742838.htm\" target=\"_blank\"><i class=\"icon_type_video\"></i>最終回播畢…王子勾《覆活》演員嗨自拍！牽手一鞠躬謝粉絲</a></h3>,\n",
       " <h3><span class=\"date\">2020/06/21 00:29</span><em class=\"tag c_star\">影劇</em><a href=\"/news/20200621/1742846.htm\" target=\"_blank\">爸爸腦梗塞！媽媽0經驗「靠電話學針灸放血」　男星PO文讚偉大…1天後道歉了</a></h3>,\n",
       " <h3><span class=\"date\">2020/06/21 00:05</span><em class=\"tag c_star\">影劇</em><a href=\"/news/20200621/1742842.htm\" target=\"_blank\">《乘風破浪的姐姐》劉芸被批「唱沒幾句還搶C位」！　網發私訊狂罵…工作室無奈回應了</a></h3>,\n",
       " <h3><span class=\"date\">2020/06/20 23:59</span><em class=\"tag c_star\">影劇</em><a href=\"/news/20200620/1742839.htm\" target=\"_blank\">坎城影帝零下30度極地求生　網嚇：人類與大自然的原始搏鬥</a></h3>,\n",
       " <h3><span class=\"date\">2020/06/20 23:56</span><em class=\"tag c_star\">影劇</em><a href=\"/news/20200620/1742715.htm\" target=\"_blank\"><i class=\"icon_type_video\"></i>雷／《覆活》大結局「最後10分鐘神反轉」！網友起雞皮：劇名有暗示</a></h3>,\n",
       " <h3><span class=\"date\">2020/06/20 23:44</span><em class=\"tag c_star\">影劇</em><a href=\"/news/20200620/1742836.htm\" target=\"_blank\">單親媽媽壓力太大！　雄性賀爾蒙激增…長出小GG</a></h3>,\n",
       " <h3><span class=\"date\">2020/06/20 23:36</span><em class=\"tag c_star\">影劇</em><a href=\"/news/20200620/1742833.htm\" target=\"_blank\">《便利店新星》剛播就惹議！　「原作是19禁A漫」…內容曝光網吐槽：有必要翻拍成劇？</a></h3>,\n",
       " <h3><span class=\"date\">2020/06/20 23:31</span><em class=\"tag c_star\">影劇</em><a href=\"/news/20200620/1742132.htm\" target=\"_blank\"><i class=\"icon_type_video\"></i>獨家花絮／王子任容萱虐心吻別！「忘川隧道」現場首曝光</a></h3>,\n",
       " <h3><span class=\"date\">2020/06/20 23:15</span><em class=\"tag c_star\">影劇</em><a href=\"/news/20200620/1742829.htm\" target=\"_blank\">雷／金秀賢二遇徐睿知噴血！《精神病》結尾震撼彈：我來見妳的</a></h3>,\n",
       " <h3><span class=\"date\">2020/06/20 23:08</span><em class=\"tag c_star\">影劇</em><a href=\"/news/20200620/1742824.htm\" target=\"_blank\">金曲得主梁啟慧睽違10年發片　專輯「會長真的草」背後秘密曝光！</a></h3>,\n",
       " <h3><span class=\"date\">2020/06/20 22:54</span><em class=\"tag c_star\">影劇</em><a href=\"/news/20200620/1742826.htm\" target=\"_blank\">女友掀中泰大戰！　Bright撐2個月道歉了：對不起中國，對不起你們</a></h3>,\n",
       " <h3><span class=\"date\">2020/06/20 22:31</span><em class=\"tag c_star\">影劇</em><a href=\"/news/20200620/1742713.htm\" target=\"_blank\"><i class=\"icon_type_video\"></i>大鶴PK王子贏了「帥臉登星光雲24小時」！《覆活》映前直播玩瘋</a></h3>,\n",
       " <h3><span class=\"date\">2020/06/20 22:14</span><em class=\"tag c_star\">影劇</em><a href=\"/news/20200620/1742813.htm\" target=\"_blank\">計程車心急開走！奶奶來不及上「腳捲進後輪」　郭惠妮嚇壞：皮都掉了</a></h3>,\n",
       " <h3><span class=\"date\">2020/06/20 21:55</span><em class=\"tag c_star\">影劇</em><a href=\"/news/20200620/1742801.htm\" target=\"_blank\">「黑豹」暴瘦現身2月後驚傳「坐輪椅送急診」！　噤聲不回應…病況引憂</a></h3>,\n",
       " <h3><span class=\"date\">2020/06/20 21:34</span><em class=\"tag c_star\">影劇</em><a href=\"/news/20200620/1742618.htm\" target=\"_blank\"><i class=\"icon_type_video\"></i>傻眼！周杰倫師弟MV沒露臉　3週點擊「反速飆200萬」</a></h3>,\n",
       " <h3><span class=\"date\">2020/06/21 07:03</span><em class=\"tag c_discovery\">探索</em><a href=\"/news/20200621/1738830.htm\" target=\"_blank\">戴口罩就不用擦防曬？　專業皮膚科醫師提3點建議</a></h3>,\n",
       " <h3><span class=\"date\">2020/06/21 07:41</span><em class=\"tag c_news\">政治</em><a href=\"/news/20200621/1742876.htm\" target=\"_blank\">任內新北副市長陳伸賢退出監委提名　朱立倫：對他二次傷害不公平</a></h3>,\n",
       " <h3><span class=\"date\">2020/06/20 23:29</span><em class=\"tag c_news\">政治</em><a href=\"/news/20200620/1742834.htm\" target=\"_blank\">快訊／彈劾案被挖出...陳伸賢退出監委提名　總統府回應了！</a></h3>,\n",
       " <h3><span class=\"date\">2020/06/20 22:44</span><em class=\"tag c_news\">政治</em><a href=\"/news/20200620/1742821.htm\" target=\"_blank\">快訊／「過去冤枉被掀開」 陳伸賢退出監委提名：已將婉拒聲明送給總統府</a></h3>,\n",
       " <h3><span class=\"date\">2020/06/20 22:11</span><em class=\"tag c_news\">政治</em><a href=\"/news/20200620/1742810.htm\" target=\"_blank\">被挖出過去彈劾案　前新北副市長陳伸賢「我沒興趣了」…退出監委提名</a></h3>,\n",
       " <h3><span class=\"date\">2020/06/20 21:30</span><em class=\"tag c_news\">政治</em><a href=\"/news/20200620/1742687.htm\" target=\"_blank\"><i class=\"icon_type_video\"></i>被長官帶出場？中市府「俏秘書」秀美腿…IG內容曝：超荒謬的一天</a></h3>,\n",
       " <h3><span class=\"date\">2020/06/20 21:27</span><em class=\"tag c_news\">政治</em><a href=\"/news/20200620/1742781.htm\" target=\"_blank\">「一柱擎天姐」領表了！確定籌錢選高雄市長　霸氣政見曝光</a></h3>,\n",
       " <h3><span class=\"date\">2020/06/21 07:00</span><em class=\"tag c_travel\">旅遊</em><a href=\"/news/20200621/1742811.htm\" target=\"_blank\">看日環食順便吃享用美食　15家嘉義必吃雞肉飯懶人包</a></h3>,\n",
       " <h3><span class=\"date\">2020/06/21 07:00</span><em class=\"tag c_travel\">旅遊</em><a href=\"/news/20200621/1742650.htm\" target=\"_blank\">看得到超夢幻「夕陽海」！金門無敵海景民宿　走幾步路就到沙灘</a></h3>,\n",
       " <h3><span class=\"date\">2020/06/21 07:06</span><em class=\"tag c_fashion\">時尚</em><a href=\"/news/20200621/1741843.htm\" target=\"_blank\">原來吉卜力有服裝品牌！無臉男、小煤炭經典動畫T恤影迷必收</a></h3>,\n",
       " <h3><span class=\"date\">2020/06/21 06:00</span><em class=\"tag c_fashion\">時尚</em><a href=\"/news/20200621/1740056.htm\" target=\"_blank\">快tag酒鬼！「香檳冰棒」拿起高腳杯直接舔　夏天開趴就是它了</a></h3>,\n",
       " <h3><span class=\"date\">2020/06/21 00:50</span><em class=\"tag c_fashion\">時尚</em><a href=\"/news/20200621/1739107.htm\" target=\"_blank\">與毛孩同穿Yeezy 350好潮！「寵物鞋套」保護小爪子　柴柴、哈士奇都適用</a></h3>,\n",
       " <h3><span class=\"date\">2020/06/21 00:02</span><em class=\"tag c_fashion\">時尚</em><a href=\"/news/20200621/1735448.htm\" target=\"_blank\">對的高跟鞋能陪你走一輩子！30歲女人值得投資的7個品牌</a></h3>,\n",
       " <h3><span class=\"date\">2020/06/20 22:30</span><em class=\"tag c_fashion\">時尚</em><a href=\"/news/20200620/1741855.htm\" target=\"_blank\">日本郵局太有才！「龍貓手提袋」出透明夏日款　到海邊拎它就贏了</a></h3>,\n",
       " <h3><span class=\"date\">2020/06/20 21:50</span><em class=\"tag c_fashion\">時尚</em><a href=\"/news/20200620/1742150.htm\" target=\"_blank\">明明不醜卻沒人追？異性緣差的女生都有4大特點　過於獨立也NG</a></h3>,\n",
       " <h3><span class=\"date\">2020/06/21 03:01</span><em class=\"tag c_consuming\">消費</em><a href=\"/news/20200621/1742862.htm\" target=\"_blank\">好市多「黑鑽卡」來了！隱藏功能曝光…網試算驚：掏出來就贏了</a></h3>,\n",
       " <h3><span class=\"date\">2020/06/21 07:01</span><em class=\"tag c_lifestyle\">生活</em><a href=\"/news/20200621/1742867.htm\" target=\"_blank\">台灣沒發現過！南投驚見外來種「番茄潛旋蛾」　防檢局緊急投藥全台大追蹤</a></h3>,\n",
       " <h3><span class=\"date\">2020/06/21 07:00</span><em class=\"tag c_lifestyle\">生活</em><a href=\"/news/20200621/1742623.htm\" target=\"_blank\">錯過等下輩子！日環食今天下午登場　10縣市「觀賞時間＆地點」攻略看這裡</a></h3>,\n",
       " <h3><span class=\"date\">2020/06/21 02:08</span><em class=\"tag c_lifestyle\">生活</em><a href=\"/news/20200621/1739285.htm\" target=\"_blank\">大嬸喊「表演不好看」刺進心裡！陳日昇：魔術師最怕騙不到任何人，只騙自己</a></h3>,\n",
       " <h3><span class=\"date\">2020/06/21 01:42</span><em class=\"tag c_lifestyle\">生活</em><a href=\"/news/20200621/1742776.htm\" target=\"_blank\"><i class=\"icon_type_video\"></i>閃爆地表！「上帝金戒指」夏至降臨台灣上空　10縣市日環食時程：16:10太陽就缺角</a></h3>,\n",
       " <h3><span class=\"date\">2020/06/20 23:27</span><em class=\"tag c_lifestyle\">生活</em><a href=\"/news/20200620/1742828.htm\" target=\"_blank\">電話接通一秒掛斷！「幽靈電話」讓她氣炸　老司機曝背後秘密</a></h3>,\n",
       " <h3><span class=\"date\">2020/06/20 23:04</span><em class=\"tag c_lifestyle\">生活</em><a href=\"/news/20200620/1738423.htm\" target=\"_blank\">「全職家庭主婦」也會失業！百萬網友追蹤人生導師：世界上沒有穩定的工作</a></h3>,\n",
       " <h3><span class=\"date\">2020/06/20 22:54</span><em class=\"tag c_lifestyle\">生活</em><a href=\"/news/20200620/1742360.htm\" target=\"_blank\">陳時中笑談「防疫五月天」任務告一段落　後續盼紓困六月天、振興八月天</a></h3>,\n",
       " <h3><span class=\"date\">2020/06/20 21:34</span><em class=\"tag c_lifestyle\">生活</em><a href=\"/news/20200620/1742359.htm\" target=\"_blank\">陳時中拋擴大健保規模！健保費漲不漲「11月健保會討論」</a></h3>,\n",
       " <h3><span class=\"date\">2020/06/20 21:30</span><em class=\"tag c_lifestyle\">生活</em><a href=\"/news/20200620/1742789.htm\" target=\"_blank\">國中妹左耳癢到爆！耳道竟爬滿「雪白斑紋」　醫嚇傻：天天戴耳機</a></h3>,\n",
       " <h3><span class=\"date\">2020/06/20 21:29</span><em class=\"tag c_lifestyle\">生活</em><a href=\"/news/20200620/1742792.htm\" target=\"_blank\">11國境外生20日起解禁返台　教育部：6/20至7/5名單須提報</a></h3>,\n",
       " <h3><span class=\"date\">2020/06/21 06:17</span><em class=\"tag c_society\">社會</em><a href=\"/news/20200621/1742866.htm\" target=\"_blank\"><i class=\"icon_type_video\"></i>補充兵猝死！父淚曝「大腿內側奇怪手印」：你有冤就讓我知道突冒出一滴血</a></h3>,\n",
       " <h3><span class=\"date\">2020/06/21 04:49</span><em class=\"tag c_society\">社會</em><a href=\"/news/20200621/1742864.htm\" target=\"_blank\">京華城工地樓板坍塌「壓爛人車」工人慘死　獨子凌晨招魂淚崩仰天痛嚎</a></h3>,\n",
       " <h3><span class=\"date\">2020/06/21 04:17</span><em class=\"tag c_society\">社會</em><a href=\"/news/20200621/1742863.htm\" target=\"_blank\">以為是男友…半裸妹熟睡遭揉　睜眼看床邊嚇哭崩潰</a></h3>,\n",
       " <h3><span class=\"date\">2020/06/21 01:05</span><em class=\"tag c_society\">社會</em><a href=\"/news/20200621/1742762.htm\" target=\"_blank\">有錢超大聲！囂張屁孩「賣笑氣發財」爽玩搶小姐　比幫派大哥還跩</a></h3>,\n",
       " <h3><span class=\"date\">2020/06/21 01:03</span><em class=\"tag c_society\">社會</em><a href=\"/news/20200621/1742844.htm\" target=\"_blank\">碰！宜蘭歇業「夾娃娃機店」突暗夜大火　 居民被聲音嚇壞：以為瓦斯爆了</a></h3>,\n",
       " <h3><span class=\"date\">2020/06/20 23:57</span><em class=\"tag c_society\">社會</em><a href=\"/news/20200620/1742837.htm\" target=\"_blank\">快訊／活埋小山貓8小時！京華城工人臟器外露身亡　家屬癱軟痛哭</a></h3>,\n",
       " <h3><span class=\"date\">2020/06/20 23:20</span><em class=\"tag c_society\">社會</em><a href=\"/news/20200620/1742822.htm\" target=\"_blank\">桃園竹圍漁港碼頭疑似釣客溺水　消防局搶救送醫已無呼吸心跳</a></h3>,\n",
       " <h3><span class=\"date\">2020/06/20 22:53</span><em class=\"tag c_society\">社會</em><a href=\"/news/20200620/1742827.htm\" target=\"_blank\"><i class=\"icon_type_video\"></i>快訊／京華城活埋工人找到了！受困小山貓內「身上覆蓋泥沙」</a></h3>,\n",
       " <h3><span class=\"date\">2020/06/20 22:38</span><em class=\"tag c_society\">社會</em><a href=\"/news/20200620/1742808.htm\" target=\"_blank\"><i class=\"icon_type_video\"></i>京華城工人遭活埋...出動「生命探測儀」　黃珊珊到場：全面停工</a></h3>,\n",
       " <h3><span class=\"date\">2020/06/20 22:32</span><em class=\"tag c_society\">社會</em><a href=\"/news/20200620/1742817.htm\" target=\"_blank\">台南柳營第14號橋驚傳落水！消防員漏夜搜救　現場獨留電動輪椅</a></h3>,\n",
       " <h3><span class=\"date\">2020/06/20 22:23</span><em class=\"tag c_society\">社會</em><a href=\"/news/20200620/1742815.htm\" target=\"_blank\">快訊／3女闖花蓮黃金峽谷溯溪！慘遭「落石砸中」1死2傷　未申請遭開罰</a></h3>,\n",
       " <h3><span class=\"date\">2020/06/20 21:56</span><em class=\"tag c_society\">社會</em><a href=\"/news/20200620/1742805.htm\" target=\"_blank\"><i class=\"icon_type_video\"></i>快訊／小琉球潛水失聯6天亡！彰化男遺體漂到綠島　家屬崩潰：回家了</a></h3>,\n",
       " <h3><span class=\"date\">2020/06/21 01:18</span><em class=\"tag c_netsearch\">網搜</em><a href=\"/news/20200621/1742853.htm\" target=\"_blank\">女子嗆「月入50K以下不配擁有愛情」！全台僅5行業達標　網友看傻</a></h3>,\n",
       " <h3><span class=\"date\">2020/06/21 00:43</span><em class=\"tag c_netsearch\">網搜</em><a href=\"/news/20200621/1742847.htm\" target=\"_blank\">汐止大樓住15年！女子突被告知「公設是違建」　竟全要回填</a></h3>,\n",
       " <h3><span class=\"date\">2020/06/20 23:58</span><em class=\"tag c_netsearch\">網搜</em><a href=\"/news/20200620/1742825.htm\" target=\"_blank\">女大生慘死！她偷看「閨蜜日記」傻了…神謎團讓7000人燒腦崩潰</a></h3>,\n",
       " <h3><span class=\"date\">2020/06/20 22:56</span><em class=\"tag c_netsearch\">網搜</em><a href=\"/news/20200620/1742823.htm\" target=\"_blank\">點外送「地址填錯」！新竹男崩潰：幫我放門口…秒被外送員一舉動暖哭</a></h3>,\n",
       " <h3><span class=\"date\">2020/06/21 02:10</span><em class=\"tag c_finance\">財經</em><a href=\"/news/20200621/1742860.htm\" target=\"_blank\">高息「金融股」民眾狂存！　財經作家：你沒發現大戶都在撤？</a></h3>,\n",
       " <h3><span class=\"date\">2020/06/21 01:16</span><em class=\"tag c_finance\">財經</em><a href=\"/news/20200621/1742749.htm\" target=\"_blank\">德州撲克教的！35歲台大博士買「防疫股」狂賺800萬　直接買一間新房</a></h3>,\n",
       " <h3><span class=\"date\">2020/06/21 01:11</span><em class=\"tag c_finance\">財經</em><a href=\"/news/20200621/1742761.htm\" target=\"_blank\">百億富豪七殺命！公司下櫃欠1200億　他7年還完債還養出「小台積電」</a></h3>,\n",
       " <h3><span class=\"date\">2020/06/20 22:27</span><em class=\"tag c_finance\">財經</em><a href=\"/news/20200620/1742521.htm\" target=\"_blank\">「AI+5G專家」分享暨技術交流展　打造南台灣醫療物聯網新趨勢</a></h3>,\n",
       " <h3><span class=\"date\">2020/06/20 23:44</span><em class=\"tag c_army\">軍武</em><a href=\"/news/20200620/1742831.htm\" target=\"_blank\">「中一期」徐衍璞主持中正預校畢典　勉小學弟充實自我多閱讀</a></h3>,\n",
       " <h3><span class=\"date\">2020/06/21 01:08</span><em class=\"tag c_sport\">體育</em><a href=\"/news/20200621/1742849.htm\" target=\"_blank\">中職／卡本特對兄弟尚未挨轟　廖乙忠先發拚對戰首勝</a></h3>,\n",
       " <h3><span class=\"date\">2020/06/21 00:08</span><em class=\"tag c_sport\">體育</em><a href=\"/news/20200621/1742843.htm\" target=\"_blank\">中職／決定老三！陳仕朋對統一未吞敗　達尼爾找首勝</a></h3>,\n",
       " <h3><span class=\"date\">2020/06/20 22:49</span><em class=\"tag c_sport\">體育</em><a href=\"/news/20200620/1742820.htm\" target=\"_blank\">中職／陳俊秀本季首度雙響砲　洲際打球「滿興奮」</a></h3>,\n",
       " <h3><span class=\"date\">2020/06/20 22:33</span><em class=\"tag c_sport\">體育</em><a href=\"/news/20200620/1742819.htm\" target=\"_blank\">中職／劉育辰調一下！林安可雙響　陳傑憲隨口一句轟破紀錄</a></h3>,\n",
       " <h3><span class=\"date\">2020/06/20 22:31</span><em class=\"tag c_sport\">體育</em><a href=\"/news/20200620/1742814.htm\" target=\"_blank\">中職／威拉諾對老東家兄弟奪首勝：在洲際投球舒服</a></h3>,\n",
       " <h3><span class=\"date\">2020/06/20 22:30</span><em class=\"tag c_sport\">體育</em><a href=\"/news/20200620/1742794.htm\" target=\"_blank\">企聯女壘／上半季21日結束　旺獅、黃蜂3強力外援去向？</a></h3>,\n",
       " <h3><span class=\"date\">2020/06/20 22:27</span><em class=\"tag c_sport\">體育</em><a href=\"/news/20200620/1742816.htm\" target=\"_blank\">CBA／林書豪13分7籃板6助攻　北京勝遼寧　周儀翔拿7分</a></h3>,\n",
       " <h3><span class=\"date\">2020/06/20 22:23</span><em class=\"tag c_sport\">體育</em><a href=\"/news/20200620/1742812.htm\" target=\"_blank\"><i class=\"icon_type_video\"></i>中職／林安可穩定輸出　餅總：專心打者好好表現</a></h3>,\n",
       " <h3><span class=\"date\">2020/06/20 22:08</span><em class=\"tag c_sport\">體育</em><a href=\"/news/20200620/1742804.htm\" target=\"_blank\">中職／羅里奇勝投開胡　餅總：後面多拿幾勝</a></h3>,\n",
       " <h3><span class=\"date\">2020/06/20 22:07</span><em class=\"tag c_sport\">體育</em><a href=\"/news/20200620/1742809.htm\" target=\"_blank\">中職／羅里奇首勝開張很快樂　修正動作連2戰7局好投</a></h3>,\n",
       " <h3><span class=\"date\">2020/06/20 22:04</span><em class=\"tag c_sport\">體育</em><a href=\"/news/20200620/1742807.htm\" target=\"_blank\">WSBL／退休前拚一座　國泰陳鈺君勇奪總冠軍MVP</a></h3>,\n",
       " <h3><span class=\"date\">2020/06/20 21:52</span><em class=\"tag c_sport\">體育</em><a href=\"/news/20200620/1742802.htm\" target=\"_blank\"><i class=\"icon_type_video\"></i>影／中職／威拉諾好投奪首勝　樂天砲轟米蘭達11比1屠象</a></h3>,\n",
       " <h3><span class=\"date\">2020/06/20 21:50</span><em class=\"tag c_sport\">體育</em><a href=\"/news/20200620/1742793.htm\" target=\"_blank\">中職／最高薪洋投悲情5連敗　林泓育對米蘭達破6成打擊率</a></h3>,\n",
       " <h3><span class=\"date\">2020/06/20 21:45</span><em class=\"tag c_sport\">體育</em><a href=\"/news/20200620/1742799.htm\" target=\"_blank\">WSBL／鄭慧芸奪年度最佳教練　遺憾國泰個人獎沒「全包」</a></h3>,\n",
       " <h3><span class=\"date\">2020/06/20 21:45</span><em class=\"tag c_sport\">體育</em><a href=\"/news/20200620/1742796.htm\" target=\"_blank\">中職／羅里奇7局好投本季首勝開張　統一6轟13比4擊潰富邦</a></h3>,\n",
       " <h3><span class=\"date\">2020/06/20 21:34</span><em class=\"tag c_sport\">體育</em><a href=\"/news/20200620/1742788.htm\" target=\"_blank\">中職／網羅戴順還不夠　統一獅繼續找洋投</a></h3>]"
      ]
     },
     "execution_count": 39,
     "metadata": {},
     "output_type": "execute_result"
    }
   ],
   "source": [
    "a = soup.find(class_=\"part_list_2\").find_all('h3')\n",
    "a.sort(key = lambda e: e.find('em').text)\n",
    "a"
   ]
  },
  {
   "cell_type": "markdown",
   "metadata": {},
   "source": [
    "### ③ 哪一個類別的文章最多"
   ]
  },
  {
   "cell_type": "code",
   "execution_count": 47,
   "metadata": {
    "scrolled": true
   },
   "outputs": [
    {
     "name": "stdout",
     "output_type": "stream",
     "text": [
      "體育\n"
     ]
    }
   ],
   "source": [
    "l = []\n",
    "for d in soup.find(class_=\"part_list_2\").find_all('h3'):\n",
    "    l.append(d.find('em').text)\n",
    "from collections import Counter\n",
    "print(max(Counter(l)))"
   ]
  },
  {
   "cell_type": "code",
   "execution_count": null,
   "metadata": {},
   "outputs": [],
   "source": []
  },
  {
   "cell_type": "code",
   "execution_count": null,
   "metadata": {},
   "outputs": [],
   "source": []
  }
 ],
 "metadata": {
  "kernelspec": {
   "display_name": "Python 3",
   "language": "python",
   "name": "python3"
  },
  "language_info": {
   "codemirror_mode": {
    "name": "ipython",
    "version": 3
   },
   "file_extension": ".py",
   "mimetype": "text/x-python",
   "name": "python",
   "nbconvert_exporter": "python",
   "pygments_lexer": "ipython3",
   "version": "3.7.3"
  }
 },
 "nbformat": 4,
 "nbformat_minor": 4
}
