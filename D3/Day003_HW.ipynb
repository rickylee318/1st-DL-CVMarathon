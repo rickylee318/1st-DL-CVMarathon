{
 "cells": [
  {
   "cell_type": "markdown",
   "metadata": {},
   "source": [
    "# Python 下載XML檔案與解析\n",
    "\n",
    "\n",
    "* 了解 xml 檔案格式與內容\n",
    "* 能夠利用套件存取 xml 格式的檔案\n"
   ]
  },
  {
   "cell_type": "markdown",
   "metadata": {},
   "source": [
    "## 作業目標\n",
    "\n",
    "* 比較一下範例檔案中的「File I/O」與「xmltodict」讀出來的內容有什麼差異\n",
    "\n",
    "* 根據範例檔案的結果：\n",
    "    1. 請問高雄市有多少地區有溫度資料？\n",
    "    2. 請取出每一個地區所記錄的第一個時間點跟溫度\n",
    "    3. 請取出第一個地區所記錄的每一個時間點跟溫度"
   ]
  },
  {
   "cell_type": "markdown",
   "metadata": {},
   "source": [
    "### 比較一下範例檔案中的「File I/O」與「xmltodict」讀出來的內容有什麼差異\n"
   ]
  },
  {
   "cell_type": "markdown",
   "metadata": {},
   "source": [
    "file i/o讀起來像網頁的原始碼\n",
    "\n",
    "xmltodict整理成dict"
   ]
  },
  {
   "cell_type": "markdown",
   "metadata": {},
   "source": [
    "### 根據範例檔案的結果：\n",
    "\n",
    "1. 請問高雄市有多少地區有溫度資料？\n",
    "2. 請取出每一個地區所記錄的第一個時間點跟溫度\n",
    "3. 請取出第一個地區所記錄的每一個時間點跟溫度"
   ]
  },
  {
   "cell_type": "code",
   "execution_count": 1,
   "metadata": {},
   "outputs": [],
   "source": [
    "# 下載檔案\n",
    "import urllib.request\n",
    "import zipfile\n",
    "\n",
    "res = \"http://opendata.cwb.gov.tw/govdownload?dataid=F-D0047-093&authorizationkey=rdec-key-123-45678-011121314\"\n",
    "urllib.request.urlretrieve(res, \"./data/example.zip\")\n",
    "f = zipfile.ZipFile('./data/example.zip')\n",
    "f.extractall('./data')"
   ]
  },
  {
   "cell_type": "code",
   "execution_count": 2,
   "metadata": {},
   "outputs": [],
   "source": [
    "fh = open(\"./data/64_72hr_CH.xml\", \"r\")\n",
    "xml = fh.read()\n",
    "fh.close()"
   ]
  },
  {
   "cell_type": "code",
   "execution_count": 3,
   "metadata": {},
   "outputs": [],
   "source": [
    "# 解析檔案內容\n",
    "import xmltodict\n",
    "d = dict(xmltodict.parse(xml))"
   ]
  },
  {
   "cell_type": "code",
   "execution_count": 33,
   "metadata": {},
   "outputs": [
    {
     "name": "stdout",
     "output_type": "stream",
     "text": [
      "38\n"
     ]
    }
   ],
   "source": [
    "# 1. 請問高雄市有多少地區有溫度資料？\n",
    "count = 0\n",
    "for i in range(len(d['cwbopendata']['dataset']['locations']['location'])):\n",
    "    if d['cwbopendata']['dataset']['locations']['location'][i]['weatherElement'][0]['description'] == '溫度':\n",
    "        count+=1\n",
    "print(count)"
   ]
  },
  {
   "cell_type": "code",
   "execution_count": 41,
   "metadata": {},
   "outputs": [
    {
     "name": "stdout",
     "output_type": "stream",
     "text": [
      "OrderedDict([('dataTime', '2020-06-17T00:00:00+08:00'), ('elementValue', OrderedDict([('value', '29'), ('measures', '攝氏度')]))])\n",
      "OrderedDict([('dataTime', '2020-06-17T00:00:00+08:00'), ('elementValue', OrderedDict([('value', '29'), ('measures', '攝氏度')]))])\n",
      "OrderedDict([('dataTime', '2020-06-17T00:00:00+08:00'), ('elementValue', OrderedDict([('value', '29'), ('measures', '攝氏度')]))])\n",
      "OrderedDict([('dataTime', '2020-06-17T00:00:00+08:00'), ('elementValue', OrderedDict([('value', '29'), ('measures', '攝氏度')]))])\n",
      "OrderedDict([('dataTime', '2020-06-17T00:00:00+08:00'), ('elementValue', OrderedDict([('value', '29'), ('measures', '攝氏度')]))])\n",
      "OrderedDict([('dataTime', '2020-06-17T00:00:00+08:00'), ('elementValue', OrderedDict([('value', '29'), ('measures', '攝氏度')]))])\n",
      "OrderedDict([('dataTime', '2020-06-17T00:00:00+08:00'), ('elementValue', OrderedDict([('value', '29'), ('measures', '攝氏度')]))])\n",
      "OrderedDict([('dataTime', '2020-06-17T00:00:00+08:00'), ('elementValue', OrderedDict([('value', '29'), ('measures', '攝氏度')]))])\n",
      "OrderedDict([('dataTime', '2020-06-17T00:00:00+08:00'), ('elementValue', OrderedDict([('value', '29'), ('measures', '攝氏度')]))])\n",
      "OrderedDict([('dataTime', '2020-06-17T00:00:00+08:00'), ('elementValue', OrderedDict([('value', '29'), ('measures', '攝氏度')]))])\n",
      "OrderedDict([('dataTime', '2020-06-17T00:00:00+08:00'), ('elementValue', OrderedDict([('value', '29'), ('measures', '攝氏度')]))])\n",
      "OrderedDict([('dataTime', '2020-06-17T00:00:00+08:00'), ('elementValue', OrderedDict([('value', '29'), ('measures', '攝氏度')]))])\n",
      "OrderedDict([('dataTime', '2020-06-17T00:00:00+08:00'), ('elementValue', OrderedDict([('value', '29'), ('measures', '攝氏度')]))])\n",
      "OrderedDict([('dataTime', '2020-06-17T00:00:00+08:00'), ('elementValue', OrderedDict([('value', '29'), ('measures', '攝氏度')]))])\n",
      "OrderedDict([('dataTime', '2020-06-17T00:00:00+08:00'), ('elementValue', OrderedDict([('value', '28'), ('measures', '攝氏度')]))])\n",
      "OrderedDict([('dataTime', '2020-06-17T00:00:00+08:00'), ('elementValue', OrderedDict([('value', '28'), ('measures', '攝氏度')]))])\n",
      "OrderedDict([('dataTime', '2020-06-17T00:00:00+08:00'), ('elementValue', OrderedDict([('value', '29'), ('measures', '攝氏度')]))])\n",
      "OrderedDict([('dataTime', '2020-06-17T00:00:00+08:00'), ('elementValue', OrderedDict([('value', '29'), ('measures', '攝氏度')]))])\n",
      "OrderedDict([('dataTime', '2020-06-17T00:00:00+08:00'), ('elementValue', OrderedDict([('value', '28'), ('measures', '攝氏度')]))])\n",
      "OrderedDict([('dataTime', '2020-06-17T00:00:00+08:00'), ('elementValue', OrderedDict([('value', '29'), ('measures', '攝氏度')]))])\n",
      "OrderedDict([('dataTime', '2020-06-17T00:00:00+08:00'), ('elementValue', OrderedDict([('value', '28'), ('measures', '攝氏度')]))])\n",
      "OrderedDict([('dataTime', '2020-06-17T00:00:00+08:00'), ('elementValue', OrderedDict([('value', '27'), ('measures', '攝氏度')]))])\n",
      "OrderedDict([('dataTime', '2020-06-17T00:00:00+08:00'), ('elementValue', OrderedDict([('value', '27'), ('measures', '攝氏度')]))])\n",
      "OrderedDict([('dataTime', '2020-06-17T00:00:00+08:00'), ('elementValue', OrderedDict([('value', '28'), ('measures', '攝氏度')]))])\n",
      "OrderedDict([('dataTime', '2020-06-17T00:00:00+08:00'), ('elementValue', OrderedDict([('value', '28'), ('measures', '攝氏度')]))])\n",
      "OrderedDict([('dataTime', '2020-06-17T00:00:00+08:00'), ('elementValue', OrderedDict([('value', '28'), ('measures', '攝氏度')]))])\n",
      "OrderedDict([('dataTime', '2020-06-17T00:00:00+08:00'), ('elementValue', OrderedDict([('value', '28'), ('measures', '攝氏度')]))])\n",
      "OrderedDict([('dataTime', '2020-06-17T00:00:00+08:00'), ('elementValue', OrderedDict([('value', '28'), ('measures', '攝氏度')]))])\n",
      "OrderedDict([('dataTime', '2020-06-17T00:00:00+08:00'), ('elementValue', OrderedDict([('value', '29'), ('measures', '攝氏度')]))])\n",
      "OrderedDict([('dataTime', '2020-06-17T00:00:00+08:00'), ('elementValue', OrderedDict([('value', '27'), ('measures', '攝氏度')]))])\n",
      "OrderedDict([('dataTime', '2020-06-17T00:00:00+08:00'), ('elementValue', OrderedDict([('value', '27'), ('measures', '攝氏度')]))])\n",
      "OrderedDict([('dataTime', '2020-06-17T00:00:00+08:00'), ('elementValue', OrderedDict([('value', '25'), ('measures', '攝氏度')]))])\n",
      "OrderedDict([('dataTime', '2020-06-17T00:00:00+08:00'), ('elementValue', OrderedDict([('value', '24'), ('measures', '攝氏度')]))])\n",
      "OrderedDict([('dataTime', '2020-06-17T00:00:00+08:00'), ('elementValue', OrderedDict([('value', '26'), ('measures', '攝氏度')]))])\n",
      "OrderedDict([('dataTime', '2020-06-17T00:00:00+08:00'), ('elementValue', OrderedDict([('value', '25'), ('measures', '攝氏度')]))])\n",
      "OrderedDict([('dataTime', '2020-06-17T00:00:00+08:00'), ('elementValue', OrderedDict([('value', '24'), ('measures', '攝氏度')]))])\n",
      "OrderedDict([('dataTime', '2020-06-17T00:00:00+08:00'), ('elementValue', OrderedDict([('value', '23'), ('measures', '攝氏度')]))])\n",
      "OrderedDict([('dataTime', '2020-06-17T00:00:00+08:00'), ('elementValue', OrderedDict([('value', '21'), ('measures', '攝氏度')]))])\n"
     ]
    }
   ],
   "source": [
    "# 2. 請取出每一個地區所記錄的第一個時間點跟溫度\n",
    "\n",
    "for i in range(len(d['cwbopendata']['dataset']['locations']['location'])):\n",
    "    print(d['cwbopendata']['dataset']['locations']['location'][i]['weatherElement'][0]['time'][0])"
   ]
  },
  {
   "cell_type": "code",
   "execution_count": 48,
   "metadata": {},
   "outputs": [
    {
     "data": {
      "text/plain": [
       "[OrderedDict([('dataTime', '2020-06-17T00:00:00+08:00'),\n",
       "              ('elementValue',\n",
       "               OrderedDict([('value', '29'), ('measures', '攝氏度')]))]),\n",
       " OrderedDict([('dataTime', '2020-06-17T03:00:00+08:00'),\n",
       "              ('elementValue',\n",
       "               OrderedDict([('value', '28'), ('measures', '攝氏度')]))]),\n",
       " OrderedDict([('dataTime', '2020-06-17T06:00:00+08:00'),\n",
       "              ('elementValue',\n",
       "               OrderedDict([('value', '28'), ('measures', '攝氏度')]))]),\n",
       " OrderedDict([('dataTime', '2020-06-17T09:00:00+08:00'),\n",
       "              ('elementValue',\n",
       "               OrderedDict([('value', '31'), ('measures', '攝氏度')]))]),\n",
       " OrderedDict([('dataTime', '2020-06-17T12:00:00+08:00'),\n",
       "              ('elementValue',\n",
       "               OrderedDict([('value', '32'), ('measures', '攝氏度')]))]),\n",
       " OrderedDict([('dataTime', '2020-06-17T15:00:00+08:00'),\n",
       "              ('elementValue',\n",
       "               OrderedDict([('value', '32'), ('measures', '攝氏度')]))]),\n",
       " OrderedDict([('dataTime', '2020-06-17T18:00:00+08:00'),\n",
       "              ('elementValue',\n",
       "               OrderedDict([('value', '31'), ('measures', '攝氏度')]))]),\n",
       " OrderedDict([('dataTime', '2020-06-17T21:00:00+08:00'),\n",
       "              ('elementValue',\n",
       "               OrderedDict([('value', '30'), ('measures', '攝氏度')]))]),\n",
       " OrderedDict([('dataTime', '2020-06-18T00:00:00+08:00'),\n",
       "              ('elementValue',\n",
       "               OrderedDict([('value', '29'), ('measures', '攝氏度')]))]),\n",
       " OrderedDict([('dataTime', '2020-06-18T03:00:00+08:00'),\n",
       "              ('elementValue',\n",
       "               OrderedDict([('value', '28'), ('measures', '攝氏度')]))]),\n",
       " OrderedDict([('dataTime', '2020-06-18T06:00:00+08:00'),\n",
       "              ('elementValue',\n",
       "               OrderedDict([('value', '28'), ('measures', '攝氏度')]))]),\n",
       " OrderedDict([('dataTime', '2020-06-18T09:00:00+08:00'),\n",
       "              ('elementValue',\n",
       "               OrderedDict([('value', '31'), ('measures', '攝氏度')]))]),\n",
       " OrderedDict([('dataTime', '2020-06-18T12:00:00+08:00'),\n",
       "              ('elementValue',\n",
       "               OrderedDict([('value', '32'), ('measures', '攝氏度')]))]),\n",
       " OrderedDict([('dataTime', '2020-06-18T15:00:00+08:00'),\n",
       "              ('elementValue',\n",
       "               OrderedDict([('value', '32'), ('measures', '攝氏度')]))]),\n",
       " OrderedDict([('dataTime', '2020-06-18T18:00:00+08:00'),\n",
       "              ('elementValue',\n",
       "               OrderedDict([('value', '31'), ('measures', '攝氏度')]))]),\n",
       " OrderedDict([('dataTime', '2020-06-18T21:00:00+08:00'),\n",
       "              ('elementValue',\n",
       "               OrderedDict([('value', '30'), ('measures', '攝氏度')]))]),\n",
       " OrderedDict([('dataTime', '2020-06-19T00:00:00+08:00'),\n",
       "              ('elementValue',\n",
       "               OrderedDict([('value', '29'), ('measures', '攝氏度')]))]),\n",
       " OrderedDict([('dataTime', '2020-06-19T03:00:00+08:00'),\n",
       "              ('elementValue',\n",
       "               OrderedDict([('value', '28'), ('measures', '攝氏度')]))]),\n",
       " OrderedDict([('dataTime', '2020-06-19T06:00:00+08:00'),\n",
       "              ('elementValue',\n",
       "               OrderedDict([('value', '28'), ('measures', '攝氏度')]))]),\n",
       " OrderedDict([('dataTime', '2020-06-19T09:00:00+08:00'),\n",
       "              ('elementValue',\n",
       "               OrderedDict([('value', '31'), ('measures', '攝氏度')]))]),\n",
       " OrderedDict([('dataTime', '2020-06-19T12:00:00+08:00'),\n",
       "              ('elementValue',\n",
       "               OrderedDict([('value', '32'), ('measures', '攝氏度')]))]),\n",
       " OrderedDict([('dataTime', '2020-06-19T15:00:00+08:00'),\n",
       "              ('elementValue',\n",
       "               OrderedDict([('value', '32'), ('measures', '攝氏度')]))]),\n",
       " OrderedDict([('dataTime', '2020-06-19T18:00:00+08:00'),\n",
       "              ('elementValue',\n",
       "               OrderedDict([('value', '31'), ('measures', '攝氏度')]))]),\n",
       " OrderedDict([('dataTime', '2020-06-19T21:00:00+08:00'),\n",
       "              ('elementValue',\n",
       "               OrderedDict([('value', '30'), ('measures', '攝氏度')]))])]"
      ]
     },
     "execution_count": 48,
     "metadata": {},
     "output_type": "execute_result"
    }
   ],
   "source": [
    "# 3. 請取出第一個地區所記錄的每一個時間點跟溫度\n",
    "d['cwbopendata']['dataset']['locations']['location'][0]['weatherElement'][0]['time']"
   ]
  },
  {
   "cell_type": "code",
   "execution_count": null,
   "metadata": {},
   "outputs": [],
   "source": []
  }
 ],
 "metadata": {
  "kernelspec": {
   "display_name": "Python 3",
   "language": "python",
   "name": "python3"
  },
  "language_info": {
   "codemirror_mode": {
    "name": "ipython",
    "version": 3
   },
   "file_extension": ".py",
   "mimetype": "text/x-python",
   "name": "python",
   "nbconvert_exporter": "python",
   "pygments_lexer": "ipython3",
   "version": "3.7.3"
  }
 },
 "nbformat": 4,
 "nbformat_minor": 4
}
