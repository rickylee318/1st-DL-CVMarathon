{
 "cells": [
  {
   "cell_type": "markdown",
   "metadata": {},
   "source": [
    "# PTT 網路爬蟲實作練習\n",
    "\n",
    "\n",
    "* 能夠利用 Request + BeatifulSour 撰寫爬蟲，並存放到合適的資料結構\n"
   ]
  },
  {
   "cell_type": "markdown",
   "metadata": {},
   "source": [
    "## 作業目標\n",
    "\n",
    "根據範例 ，完成以下問題：\n",
    "\n",
    "* ① 印出最新文章的「作者」「標題」「時間」\n",
    "* ② 印出第一頁所有文章的「作者」「標題」「時間」\n"
   ]
  },
  {
   "cell_type": "markdown",
   "metadata": {},
   "source": [
    "### ① 印出最新文章的「作者」「標題」「時間」"
   ]
  },
  {
   "cell_type": "code",
   "execution_count": 18,
   "metadata": {},
   "outputs": [
    {
     "name": "stdout",
     "output_type": "stream",
     "text": [
      "標題: [情報] 快艇計劃和Joakim Noah簽新約\n",
      "作者: Bainite (黑羽毛 ┐(′д`)┌)\n",
      "時間: Sat Jun 20 23:17:55 2020\n",
      "標題: [公告] 板規v6.8\n",
      "標題: [公告] 版主上任相關事項 \n",
      "作者: qazwsx879345 (Rajon Rondo)\n",
      "時間: Fri Oct 25 10:44:03 2019\n",
      "標題: [情報] SEASON Schedule 賽程 March 19–20\n",
      "作者: Acetoxy (阿斯)\n",
      "時間: Mon Mar  2 01:19:40 2020\n",
      "標題: [公告] 第一次被退文，可在三天後刪除退文\n",
      "作者: Vedan (味丹)\n",
      "時間: Mon Mar  9 11:44:26 2020\n",
      "標題: [公告] 板務說明 (發錢)\n",
      "作者: Vedan (味丹)\n",
      "時間: Fri Apr  3 01:28:00 2020\n"
     ]
    }
   ],
   "source": [
    "import requests\n",
    "from bs4 import BeautifulSoup\n",
    "\n",
    "url = 'https://www.ptt.cc/bbs/NBA/index.html'\n",
    "r = requests.get(url)\n",
    "\n",
    "soup = BeautifulSoup(r.text, \"html5lib\")\n",
    "\n",
    "for d in soup.find_all(class_=\"title\"):\n",
    "    print(\"標題: \" + d.text.replace('\\t', '').replace('\\n', ''))\n",
    "    try:\n",
    "        r = BeautifulSoup(requests.get('https://www.ptt.cc'+d.find('a')['href']).text, \"html5lib\")\n",
    "        print('作者: ' + r.find(class_='article-meta-value').text)\n",
    "        print('時間: '+ r.find(id = 'main-container').find_all(class_ = 'article-meta-value')[-1].text)\n",
    "    except:\n",
    "        continue\n",
    "\n"
   ]
  },
  {
   "cell_type": "markdown",
   "metadata": {},
   "source": [
    "### ② 印出第一頁所有文章的「作者」「標題」「時間」"
   ]
  },
  {
   "cell_type": "code",
   "execution_count": 23,
   "metadata": {},
   "outputs": [
    {
     "name": "stdout",
     "output_type": "stream",
     "text": [
      "標題: [轉錄]Lyotard 對於太陽板討論串的結論\n",
      "作者: Price (Price)\n",
      "時間: Sun May 16 01:54:33 2004\n",
      "標題: [公告] 請停止一切關於本次活動的發言\n",
      "作者: Price (Price)\n",
      "時間: Mon May 24 00:43:00 2004\n",
      "標題: [轉錄]跟之前那篇比起來 我覺得這篇也應該轉過來\n",
      "作者: Frankaze (神采風華)\n",
      "時間: Tue Jun  8 01:16:45 2004\n",
      "標題: [轉錄]再轉一篇好文來\n",
      "作者: Frankaze (神采風華)\n",
      "時間: Tue Jun  8 09:02:23 2004\n",
      "標題: [轉錄][情報] 夏洛特山貓系列\n",
      "作者: Price (Price)\n",
      "時間: Thu Jun 10 00:39:35 2004\n",
      "標題: [轉錄]Re: [心得] 真是受不了糗爺....\n",
      "作者: Price (Price)\n",
      "時間: Thu Jun 10 00:51:35 2004\n",
      "標題: [轉錄]總冠軍賽NO.2觀後感\n",
      "作者: Price (Price)\n",
      "時間: Thu Jun 10 12:05:07 2004\n",
      "標題: [心得] Rasheed Wallace\n",
      "作者: AmuroNamie (原來太嗨真的會失眠^___^)\n",
      "時間: Fri Jun 11 15:06:09 2004\n",
      "標題: 掌控球賽的男人\n",
      "作者: toptree (  )\n",
      "時間: Sat Jun 12 07:13:04 2004\n",
      "標題: [閒聊] 說說2004季後賽名場面回顧\n",
      "作者: skchang (3EB板開板囉！)\n",
      "時間: Sat Jun 12 13:21:49 2004\n",
      "標題: [心得] 其實說穿了 就是活塞的防守太可怕了\n",
      "作者: shineup ()\n",
      "時間: Sat Jun 12 13:12:47 2004\n",
      "標題: Re: [閒聊] 說說2004季後賽名場面回顧\n",
      "作者: cOvi (喵~)\n",
      "時間: Sat Jun 12 16:43:07 2004\n",
      "標題: Re: [閒聊] 說說2004季後賽名場面回顧\n",
      "作者: ykshih (￼N￼Ns)\n",
      "時間: Sat Jun 12 17:26:37 2004\n",
      "標題: Re: [閒聊] 說說2004季後賽名場面回顧\n",
      "作者: Frankaze (神采風華)\n",
      "時間: Sat Jun 12 18:34:46 2004\n",
      "標題: [轉錄]Re: 總冠軍賽NO.3觀後感\n",
      "作者: Price (Price)\n",
      "時間: Mon Jun 14 02:18:52 2004\n",
      "標題: [轉錄]Re: 總冠軍賽NO.3觀後感\n",
      "作者: Frankaze (神采風華)\n",
      "時間: Mon Jun 14 02:34:33 2004\n",
      "標題: Re: [轉錄]Re: 總冠軍賽NO.3觀後感\n",
      "作者: star1 (第一次魔術表演不算成功)\n",
      "時間: Mon Jun 14 07:16:30 2004\n",
      "標題: Re: [轉錄]Re: 總冠軍賽NO.3觀後感\n",
      "作者: coldspring (笑笑)\n",
      "時間: Mon Jun 14 09:24:57 2004\n",
      "標題: Re: Kobe is frustrated...\n",
      "作者: airbear (地圖)\n",
      "時間: Mon Jun 14 12:56:14 2004\n",
      "標題: Re: [轉錄]Re: 總冠軍賽NO.3觀後感\n",
      "作者: pennykidd (andre)\n",
      "時間: Mon Jun 14 22:07:01 2004\n"
     ]
    }
   ],
   "source": [
    "url = 'https://www.ptt.cc/bbs/NBA/index1.html'\n",
    "r = requests.get(url)\n",
    "\n",
    "soup = BeautifulSoup(r.text, \"html5lib\")\n",
    "for d in soup.find_all(class_=\"title\"):\n",
    "    print(\"標題: \" + d.text.replace('\\t', '').replace('\\n', ''))\n",
    "    try:\n",
    "        r = BeautifulSoup(requests.get('https://www.ptt.cc'+d.find('a')['href']).text, \"html5lib\")\n",
    "        print('作者: ' + r.find(class_='article-meta-value').text)\n",
    "        print('時間: '+ r.find(id = 'main-container').find_all(class_ = 'article-meta-value')[-1].text)\n",
    "    except:\n",
    "        continue"
   ]
  },
  {
   "cell_type": "markdown",
   "metadata": {},
   "source": [
    "### ③ 試著爬爬看其他版的文章"
   ]
  },
  {
   "cell_type": "code",
   "execution_count": 43,
   "metadata": {},
   "outputs": [
    {
     "name": "stdout",
     "output_type": "stream",
     "text": [
      "標題: [閒聊] gto跟車馬伕自己也常玩嗎\n",
      "作者: tmen520 (廢文王)\n",
      "時間: Sat Jun 20 17:26:14 2020\n",
      "標題: [創作] 引路人 #第六城\n",
      "作者: EShineLian (ESL)\n",
      "時間: Sat Jun 20 17:39:03 2020\n",
      "標題: [討論] 關於女生刺青\n",
      "作者: Qoochen (qoochen)\n",
      "時間: Sat Jun 20 21:33:47 2020\n",
      "標題: [閒聊] 昨晚的野砲\n",
      "作者: miyukiandmay (小u)\n",
      "時間: Sat Jun 20 21:57:23 2020\n",
      "標題: [認真] 要硬不硬是怎麼樣的情況\n",
      "作者: pocky123 (pocky123)\n",
      "時間: Sat Jun 20 22:55:41 2020\n",
      "標題: [心得] 大學生給自己畢業禮物\n",
      "作者: joy60621 (joy)\n",
      "時間: Sat Jun 20 23:13:46 2020\n",
      "標題: [新聞] 無業男酒後硬上多年異性好友判刑1年10個月\n",
      "作者: hvariables (Speculative Male)\n",
      "時間: Sat Jun 20 23:23:16 2020\n",
      "標題: [新聞] 女友全程觀看！新北男夜唱後性侵酒醉妹　\n",
      "作者: MidoBanA (阿姆斯特朗羊)\n",
      "時間: Sat Jun 20 23:35:44 2020\n",
      "標題: [創作] 可惜\n",
      "作者: ian10231 (小象硬梆梆)\n",
      "時間: Sat Jun 20 23:42:37 2020\n",
      "標題: [心得] 嫖妓時 小姐的奶罩竟有牛奶臭酸味\n",
      "作者: pushxuman (推噓俠)\n",
      "時間: Sun Jun 21 00:01:15 2020\n",
      "標題: [徵文] 黑絲的故事\n",
      "作者: balahaha (★♂夜爆秋✡↗)\n",
      "時間: Sun Jun 21 00:55:44 2020\n",
      "標題: Re: [認真] 要硬不硬是怎麼樣的情況\n",
      "作者: babywipes (嬰兒潔膚濕巾)\n",
      "時間: Sun Jun 21 01:42:39 2020\n",
      "標題: [公告] 西斯板規 Ver 6.2.9\n",
      "標題: Fw: [公告] 請使用者多加注意我國保護兒少的法令\n",
      "作者: FallRed (☆╮落紅a圓仔╭㊣)\n",
      "時間: Mon Jul 29 22:03:19 2019\n",
      "標題: [公告] 2020 皐月 西斯置底閒聊區\n",
      "作者: Assisi (Francesco d'Assisi)\n",
      "時間: Wed Jun  3 12:24:02 2020\n",
      "標題: [公告] 2020 夏季徵文活動\n"
     ]
    }
   ],
   "source": [
    "url = 'https://www.ptt.cc/bbs/Sex/index.html'\n",
    "r = requests.get(url,cookies = {'over18':'1'})\n",
    "\n",
    "soup = BeautifulSoup(r.text, \"html5lib\")\n",
    "for d in soup.find_all(class_=\"title\"):\n",
    "    print(\"標題: \" + d.text.replace('\\t', '').replace('\\n', ''))\n",
    "    try:\n",
    "        r = BeautifulSoup(requests.get('https://www.ptt.cc'+d.find('a')['href'],cookies = {'over18':'1'}).text, \"html5lib\")\n",
    "        print('作者: ' + r.find(class_='article-meta-value').text)\n",
    "        print('時間: '+ r.find(id = 'main-container').find_all(class_ = 'article-meta-value')[-1].text)\n",
    "    except:\n",
    "        continue"
   ]
  },
  {
   "cell_type": "code",
   "execution_count": null,
   "metadata": {},
   "outputs": [],
   "source": []
  }
 ],
 "metadata": {
  "kernelspec": {
   "display_name": "Python 3",
   "language": "python",
   "name": "python3"
  },
  "language_info": {
   "codemirror_mode": {
    "name": "ipython",
    "version": 3
   },
   "file_extension": ".py",
   "mimetype": "text/x-python",
   "name": "python",
   "nbconvert_exporter": "python",
   "pygments_lexer": "ipython3",
   "version": "3.7.3"
  }
 },
 "nbformat": 4,
 "nbformat_minor": 4
}
