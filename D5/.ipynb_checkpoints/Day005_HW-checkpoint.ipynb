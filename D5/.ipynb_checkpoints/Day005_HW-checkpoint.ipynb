{
 "cells": [
  {
   "cell_type": "markdown",
   "metadata": {},
   "source": [
    "# API 資料串接 - 以 Dcard API 實作範例\n",
    "\n",
    "* 了解 Dcard API 使用方式與回傳內容\n",
    "* 撰寫程式存取 API 且解析 JSON 格式資料\n"
   ]
  },
  {
   "cell_type": "markdown",
   "metadata": {},
   "source": [
    "## 作業目標\n",
    "\n",
    "* 請利用 API: https://www.dcard.tw/_api/forums/pet/posts?popular=true 回答下列問題：\n",
    "\n",
    "1. 這個 API 一次會回傳幾筆資料？每一筆資料包含哪些欄位？\n",
    "2. 取出每一筆資料的「標題」、「貼文時間」、「留言人數」、「按讚人數」\n",
    "3. 計算熱門/非熱門文章的「平均留言人數」與「平均按讚人數」"
   ]
  },
  {
   "cell_type": "code",
   "execution_count": 1,
   "metadata": {},
   "outputs": [],
   "source": [
    "import requests\n",
    "r = requests.get('https://www.dcard.tw/_api/forums/pet/posts?popular=true')\n",
    "response = r.text\n",
    "\n",
    "import json\n",
    "data = json.loads(response)"
   ]
  },
  {
   "cell_type": "code",
   "execution_count": 8,
   "metadata": {},
   "outputs": [
    {
     "name": "stdout",
     "output_type": "stream",
     "text": [
      "30\n",
      "dict_keys(['id', 'title', 'excerpt', 'anonymousSchool', 'anonymousDepartment', 'pinned', 'forumId', 'replyId', 'createdAt', 'updatedAt', 'commentCount', 'likeCount', 'withNickname', 'tags', 'topics', 'meta', 'forumName', 'forumAlias', 'nsfw', 'gender', 'school', 'replyTitle', 'mediaMeta', 'reactions', 'hidden', 'customStyle', 'isSuspiciousAccount', 'layout', 'withImages', 'withVideos', 'media', 'reportReasonText', 'postAvatar'])\n"
     ]
    }
   ],
   "source": [
    "# 1. 這個 API 一次會回傳幾筆資料？每一筆資料包含哪些欄位？\n",
    "\n",
    "print(len(data))\n",
    "\n",
    "print(data[0].keys())"
   ]
  },
  {
   "cell_type": "code",
   "execution_count": 13,
   "metadata": {
    "collapsed": true,
    "jupyter": {
     "outputs_hidden": true
    }
   },
   "outputs": [
    {
     "name": "stdout",
     "output_type": "stream",
     "text": [
      "在美國的貓貓日常\n",
      "2020-06-16T04:46:59.552Z\n",
      "16\n",
      "327\n",
      "#奴才必備😺🐶HuRuRu 毛孩香香乾淨組✨輕鬆打理不費力\n",
      "2020-06-16T07:01:25.311Z\n",
      "7\n",
      "296\n",
      "於是我帶他回家了\n",
      "2020-06-16T02:49:23.142Z\n",
      "13\n",
      "201\n",
      "我的角蛙死掉了\n",
      "2020-06-16T14:02:58.621Z\n",
      "35\n",
      "110\n",
      "犬種介紹特輯18 永遠忠誠 杜賓犬~\n",
      "2020-06-16T12:21:51.930Z\n",
      "28\n",
      "100\n",
      "#圖 慎入 罐頭裡面居然綠綠的！\n",
      "2020-06-16T13:08:24.076Z\n",
      "23\n",
      "97\n",
      "倉鼠真的很可憐\n",
      "2020-06-16T13:06:14.404Z\n",
      "10\n",
      "78\n",
      "幫幫我取名字🥺\n",
      "2020-06-16T05:52:00.548Z\n",
      "76\n",
      "74\n",
      "雪貂\n",
      "2020-06-16T05:52:47.690Z\n",
      "23\n",
      "72\n",
      "愛貓的人不要做半手愛心\n",
      "2020-06-16T12:48:27.132Z\n",
      "6\n",
      "26\n",
      "育貓經：貓咪主食罐挑選簡易心得分享\n",
      "2020-06-16T09:12:16.934Z\n",
      "14\n",
      "25\n",
      "謝謝你讓我當你爸😍\n",
      "2020-06-15T19:11:25.420Z\n",
      "6\n",
      "24\n",
      "貓咪食慾問題\n",
      "2020-06-16T04:04:02.493Z\n",
      "6\n",
      "22\n",
      "老狗可以進寵物旅館嗎\n",
      "2020-06-16T14:24:09.919Z\n",
      "9\n",
      "20\n",
      "這是我的貓 如果你還看不夠\n",
      "2020-06-16T06:10:25.014Z\n",
      "1\n",
      "19\n",
      "夏天還是洗澡最舒服了！\n",
      "2020-06-16T11:53:03.365Z\n",
      "1\n",
      "18\n",
      "#協尋 高雄左營 西施犬\n",
      "2020-06-16T03:09:34.072Z\n",
      "3\n",
      "16\n",
      "我的手又不能動了\n",
      "2020-06-16T17:01:58.072Z\n",
      "1\n",
      "13\n",
      "兔子耳朵都是天線\n",
      "2020-06-16T23:28:52.169Z\n",
      "1\n",
      "12\n",
      "請問我的花色是什麼貓咪呀？\n",
      "2020-06-16T11:58:00.718Z\n",
      "4\n",
      "11\n",
      "戶外教學初體驗\n",
      "2020-06-16T12:51:14.916Z\n",
      "0\n",
      "9\n",
      "這是什麼動物\n",
      "2020-06-16T04:19:54.425Z\n",
      "4\n",
      "9\n",
      "# 緊急 高雄中華二路 米克斯 2020/06/16 (二)\n",
      "2020-06-16T14:17:41.041Z\n",
      "0\n",
      "8\n",
      "我的貓...被我踩到...然後\n",
      "2020-06-16T13:40:48.766Z\n",
      "4\n",
      "8\n",
      "幼貓不吃乾飼料\n",
      "2020-06-16T02:44:39.119Z\n",
      "6\n",
      "8\n",
      "關於養柯基需要知道的疾病之一\n",
      "2020-06-16T16:14:36.552Z\n",
      "1\n",
      "7\n",
      "（文長）寵物溝通初體驗，超驚奇❗️\n",
      "2020-06-16T07:47:47.026Z\n",
      "11\n",
      "7\n",
      "不在意形象的孩子\n",
      "2020-06-16T06:29:35.844Z\n",
      "2\n",
      "6\n",
      "有些小貓咪表面跟你是好朋友...\n",
      "2020-06-17T02:55:07.108Z\n",
      "1\n",
      "4\n",
      "背後拱拱的 好好擔心...\n",
      "2020-06-16T18:40:18.367Z\n",
      "0\n",
      "3\n"
     ]
    }
   ],
   "source": [
    "# 2. 取出每一筆資料的「標題」、「貼文時間」、「留言人數」、「按讚人數」\n",
    "\n",
    "L = ['title','createdAt','commentCount','likeCount']\n",
    "for d in data:\n",
    "    for l in L:\n",
    "        print(d[l])"
   ]
  },
  {
   "cell_type": "code",
   "execution_count": 28,
   "metadata": {},
   "outputs": [
    {
     "name": "stdout",
     "output_type": "stream",
     "text": [
      "mean comment = 10.400000\n",
      "mean like = 54.333333\n"
     ]
    }
   ],
   "source": [
    "# 3. 計算熱門/非熱門文章的「平均留言人數」與「平均按讚人數」\n",
    "all_comment = 0\n",
    "all_like = 0\n",
    "for d in data:\n",
    "    all_comment+=d['commentCount']\n",
    "    all_like+=d['likeCount']\n",
    "mean_comment = all_comment / len(data)\n",
    "mean_like = all_like / len(data)\n",
    "print('mean comment = %f' %mean_comment)\n",
    "print('mean like = %f' %mean_like)"
   ]
  },
  {
   "cell_type": "code",
   "execution_count": null,
   "metadata": {},
   "outputs": [],
   "source": []
  }
 ],
 "metadata": {
  "kernelspec": {
   "display_name": "Python 3",
   "language": "python",
   "name": "python3"
  },
  "language_info": {
   "codemirror_mode": {
    "name": "ipython",
    "version": 3
   },
   "file_extension": ".py",
   "mimetype": "text/x-python",
   "name": "python",
   "nbconvert_exporter": "python",
   "pygments_lexer": "ipython3",
   "version": "3.7.3"
  }
 },
 "nbformat": 4,
 "nbformat_minor": 4
}
